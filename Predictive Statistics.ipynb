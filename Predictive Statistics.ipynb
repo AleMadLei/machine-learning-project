{
 "cells": [
  {
   "cell_type": "markdown",
   "metadata": {},
   "source": [
    "# Machine Learning Project - Predictive Statistics - 50pts\n",
    "\n",
    "Kathia Zamora Arias <kattia.zamora@prodigious.com><br />\n",
    "Alejandro Madrigal Leival <me@alemadlei.tech>"
   ]
  },
  {
   "cell_type": "code",
   "execution_count": 1,
   "metadata": {},
   "outputs": [],
   "source": [
    "import pandas as pd\n",
    "from sklearn.cluster import KMeans\n",
    "from sklearn import decomposition\n",
    "from sklearn.model_selection import train_test_split\n",
    "from sklearn.metrics import classification_report\n",
    "from scipy.spatial.distance import cdist\n",
    "from sklearn.model_selection import cross_val_score, cross_val_predict, GridSearchCV\n",
    "from sklearn import metrics\n",
    "from sklearn.preprocessing import Normalizer, RobustScaler, MinMaxScaler, StandardScaler\n",
    "from sklearn.svm import SVC\n",
    "from sklearn.ensemble import RandomForestClassifier\n",
    "import numpy as np\n",
    "from time import time\n",
    "import matplotlib.pyplot as plt\n",
    "%matplotlib inline"
   ]
  },
  {
   "cell_type": "code",
   "execution_count": 2,
   "metadata": {},
   "outputs": [
    {
     "data": {
      "text/html": [
       "<div>\n",
       "<style scoped>\n",
       "    .dataframe tbody tr th:only-of-type {\n",
       "        vertical-align: middle;\n",
       "    }\n",
       "\n",
       "    .dataframe tbody tr th {\n",
       "        vertical-align: top;\n",
       "    }\n",
       "\n",
       "    .dataframe thead th {\n",
       "        text-align: right;\n",
       "    }\n",
       "</style>\n",
       "<table border=\"1\" class=\"dataframe\">\n",
       "  <thead>\n",
       "    <tr style=\"text-align: right;\">\n",
       "      <th></th>\n",
       "      <th>ID</th>\n",
       "      <th>LIMIT_BAL</th>\n",
       "      <th>SEX</th>\n",
       "      <th>EDUCATION</th>\n",
       "      <th>MARRIAGE</th>\n",
       "      <th>AGE</th>\n",
       "      <th>PAY_0</th>\n",
       "      <th>PAY_2</th>\n",
       "      <th>PAY_3</th>\n",
       "      <th>PAY_4</th>\n",
       "      <th>...</th>\n",
       "      <th>BILL_AMT4</th>\n",
       "      <th>BILL_AMT5</th>\n",
       "      <th>BILL_AMT6</th>\n",
       "      <th>PAY_AMT1</th>\n",
       "      <th>PAY_AMT2</th>\n",
       "      <th>PAY_AMT3</th>\n",
       "      <th>PAY_AMT4</th>\n",
       "      <th>PAY_AMT5</th>\n",
       "      <th>PAY_AMT6</th>\n",
       "      <th>default payment next month</th>\n",
       "    </tr>\n",
       "  </thead>\n",
       "  <tbody>\n",
       "    <tr>\n",
       "      <th>0</th>\n",
       "      <td>1</td>\n",
       "      <td>20000</td>\n",
       "      <td>2</td>\n",
       "      <td>2</td>\n",
       "      <td>1</td>\n",
       "      <td>24</td>\n",
       "      <td>2</td>\n",
       "      <td>2</td>\n",
       "      <td>-1</td>\n",
       "      <td>-1</td>\n",
       "      <td>...</td>\n",
       "      <td>0</td>\n",
       "      <td>0</td>\n",
       "      <td>0</td>\n",
       "      <td>0</td>\n",
       "      <td>689</td>\n",
       "      <td>0</td>\n",
       "      <td>0</td>\n",
       "      <td>0</td>\n",
       "      <td>0</td>\n",
       "      <td>1</td>\n",
       "    </tr>\n",
       "    <tr>\n",
       "      <th>1</th>\n",
       "      <td>2</td>\n",
       "      <td>120000</td>\n",
       "      <td>2</td>\n",
       "      <td>2</td>\n",
       "      <td>2</td>\n",
       "      <td>26</td>\n",
       "      <td>-1</td>\n",
       "      <td>2</td>\n",
       "      <td>0</td>\n",
       "      <td>0</td>\n",
       "      <td>...</td>\n",
       "      <td>3272</td>\n",
       "      <td>3455</td>\n",
       "      <td>3261</td>\n",
       "      <td>0</td>\n",
       "      <td>1000</td>\n",
       "      <td>1000</td>\n",
       "      <td>1000</td>\n",
       "      <td>0</td>\n",
       "      <td>2000</td>\n",
       "      <td>1</td>\n",
       "    </tr>\n",
       "    <tr>\n",
       "      <th>2</th>\n",
       "      <td>3</td>\n",
       "      <td>90000</td>\n",
       "      <td>2</td>\n",
       "      <td>2</td>\n",
       "      <td>2</td>\n",
       "      <td>34</td>\n",
       "      <td>0</td>\n",
       "      <td>0</td>\n",
       "      <td>0</td>\n",
       "      <td>0</td>\n",
       "      <td>...</td>\n",
       "      <td>14331</td>\n",
       "      <td>14948</td>\n",
       "      <td>15549</td>\n",
       "      <td>1518</td>\n",
       "      <td>1500</td>\n",
       "      <td>1000</td>\n",
       "      <td>1000</td>\n",
       "      <td>1000</td>\n",
       "      <td>5000</td>\n",
       "      <td>0</td>\n",
       "    </tr>\n",
       "    <tr>\n",
       "      <th>3</th>\n",
       "      <td>4</td>\n",
       "      <td>50000</td>\n",
       "      <td>2</td>\n",
       "      <td>2</td>\n",
       "      <td>1</td>\n",
       "      <td>37</td>\n",
       "      <td>0</td>\n",
       "      <td>0</td>\n",
       "      <td>0</td>\n",
       "      <td>0</td>\n",
       "      <td>...</td>\n",
       "      <td>28314</td>\n",
       "      <td>28959</td>\n",
       "      <td>29547</td>\n",
       "      <td>2000</td>\n",
       "      <td>2019</td>\n",
       "      <td>1200</td>\n",
       "      <td>1100</td>\n",
       "      <td>1069</td>\n",
       "      <td>1000</td>\n",
       "      <td>0</td>\n",
       "    </tr>\n",
       "    <tr>\n",
       "      <th>4</th>\n",
       "      <td>5</td>\n",
       "      <td>50000</td>\n",
       "      <td>1</td>\n",
       "      <td>2</td>\n",
       "      <td>1</td>\n",
       "      <td>57</td>\n",
       "      <td>-1</td>\n",
       "      <td>0</td>\n",
       "      <td>-1</td>\n",
       "      <td>0</td>\n",
       "      <td>...</td>\n",
       "      <td>20940</td>\n",
       "      <td>19146</td>\n",
       "      <td>19131</td>\n",
       "      <td>2000</td>\n",
       "      <td>36681</td>\n",
       "      <td>10000</td>\n",
       "      <td>9000</td>\n",
       "      <td>689</td>\n",
       "      <td>679</td>\n",
       "      <td>0</td>\n",
       "    </tr>\n",
       "  </tbody>\n",
       "</table>\n",
       "<p>5 rows × 25 columns</p>\n",
       "</div>"
      ],
      "text/plain": [
       "   ID  LIMIT_BAL  SEX  EDUCATION  MARRIAGE  AGE  PAY_0  PAY_2  PAY_3  PAY_4  \\\n",
       "0   1      20000    2          2         1   24      2      2     -1     -1   \n",
       "1   2     120000    2          2         2   26     -1      2      0      0   \n",
       "2   3      90000    2          2         2   34      0      0      0      0   \n",
       "3   4      50000    2          2         1   37      0      0      0      0   \n",
       "4   5      50000    1          2         1   57     -1      0     -1      0   \n",
       "\n",
       "   ...  BILL_AMT4  BILL_AMT5  BILL_AMT6  PAY_AMT1  PAY_AMT2  PAY_AMT3  \\\n",
       "0  ...          0          0          0         0       689         0   \n",
       "1  ...       3272       3455       3261         0      1000      1000   \n",
       "2  ...      14331      14948      15549      1518      1500      1000   \n",
       "3  ...      28314      28959      29547      2000      2019      1200   \n",
       "4  ...      20940      19146      19131      2000     36681     10000   \n",
       "\n",
       "   PAY_AMT4  PAY_AMT5  PAY_AMT6  default payment next month  \n",
       "0         0         0         0                           1  \n",
       "1      1000         0      2000                           1  \n",
       "2      1000      1000      5000                           0  \n",
       "3      1100      1069      1000                           0  \n",
       "4      9000       689       679                           0  \n",
       "\n",
       "[5 rows x 25 columns]"
      ]
     },
     "execution_count": 2,
     "metadata": {},
     "output_type": "execute_result"
    }
   ],
   "source": [
    "# Description\n",
    "# LIMIT_BAL: Credit in Taiwan dollars.\n",
    "# SEX: \n",
    "#   1 => Male\n",
    "#   2 => Female\n",
    "# EDUCATION: \n",
    "#   1 => Graduate School\n",
    "#   2 => University\n",
    "#   3 => High School\n",
    "#   4 => Others\n",
    "# MARRIAGE:\n",
    "#   1 => Married\n",
    "#   2 => Single\n",
    "#   3 => Other\n",
    "# AGE: Age\n",
    "# PAY_0: Payment status for September 2005\n",
    "# PAY_2: Payment status for August 2005\n",
    "# PAY_3: Payment status for July 2005\n",
    "# PAY_4: Payment status for June 2005\n",
    "# PAY_5: Payment status for May 2005\n",
    "# PAY_6: Payment status for April 2005\n",
    "# - All of these have the following possible values\n",
    "#   -1 => Pay duly\n",
    "#    1 => One month payment delay\n",
    "#    2 => Two months payment delay\n",
    "#    . => . months payment delay\n",
    "#    9 => Nine months or month payment delay.\n",
    "# BILL_AMT1: Bill statement amount for September 2005.\n",
    "# BILL_AMT2: Bill statement amount for August 2005.\n",
    "# BILL_AMT3: Bill statement amount for July 2005.\n",
    "# BILL_AMT4: Bill statement amount for June 2005.\n",
    "# BILL_AMT5: Bill statement amount for May 2005.\n",
    "# BILL_AMT6: Bill statement amount for April 2005.\n",
    "# - All of these values are in Taiwan dollars.\n",
    "# PAY_AMT1: Amount of previous payment for September 2005.\n",
    "# PAY_AMT2: Amount of previous payment for August 2005.\n",
    "# PAY_AMT3: Amount of previous payment for July 2005.\n",
    "# PAY_AMT4: Amount of previous payment for June 2005.\n",
    "# PAY_AMT5: Amount of previous payment for May 2005.\n",
    "# PAY_AMT6: Amount of previous payment for April 2005.\n",
    "# default payment next month: Indicates if the next month (October 2005) will be a default payment month.\n",
    "\n",
    "# Loads and cleans up our dataset (first row in this case is the second one).\n",
    "data = pd.read_csv('default_credit.csv', header=1);\n",
    "data = data.astype('int32')\n",
    "data.head()"
   ]
  },
  {
   "cell_type": "markdown",
   "metadata": {},
   "source": [
    "### 1 - Can we cluster our customers into categories? (unlabeled clustering) - (10 pts)"
   ]
  },
  {
   "cell_type": "code",
   "execution_count": 3,
   "metadata": {},
   "outputs": [],
   "source": [
    "# As our data is not labeled in any way that would allows us to classify the people, we will attempt to\n",
    "# figure this out by using KMeans.\n",
    "\n",
    "# We get the data use to infere the clusters.\n",
    "y = data['default payment next month'];\n",
    "X = data.drop(['default payment next month', 'ID'], axis=1)"
   ]
  },
  {
   "cell_type": "code",
   "execution_count": 4,
   "metadata": {},
   "outputs": [
    {
     "data": {
      "image/png": "[encoded data removed]",
      "text/plain": [
       "<Figure size 432x288 with 1 Axes>"
      ]
     },
     "metadata": {
      "needs_background": "light"
     },
     "output_type": "display_data"
    }
   ],
   "source": [
    "# Uses PCA to transform data.\n",
    "pca = decomposition.PCA(n_components = 2)\n",
    "pca.fit(X)\n",
    "X = pca.transform(X)\n",
    "\n",
    "# Gets the clusters groups to plot and figure out the best number of clusters to use.\n",
    "distortions = []\n",
    "K = range(1,10)\n",
    "for k in K:\n",
    "    kmeanModel = KMeans(n_clusters=k).fit(X)\n",
    "    distortions.append(sum(np.min(cdist(X, kmeanModel.cluster_centers_, 'euclidean'), axis=1)) / X.shape[0])\n",
    "\n",
    "# Plot the elbow\n",
    "plt.plot(K, distortions, 'bx-')\n",
    "plt.xlabel('k')\n",
    "plt.ylabel('Distortion')\n",
    "plt.title('The Elbow Method showing the optimal k')\n",
    "plt.show()"
   ]
  },
  {
   "cell_type": "code",
   "execution_count": 5,
   "metadata": {},
   "outputs": [
    {
     "data": {
      "image/png": "[encoded data removed]",
      "text/plain": [
       "<Figure size 432x288 with 1 Axes>"
      ]
     },
     "metadata": {
      "needs_background": "light"
     },
     "output_type": "display_data"
    },
    {
     "data": {
      "image/png": "[encoded data removed]",
      "text/plain": [
       "<Figure size 432x288 with 1 Axes>"
      ]
     },
     "metadata": {
      "needs_background": "light"
     },
     "output_type": "display_data"
    },
    {
     "data": {
      "image/png": "[encoded data removed]",
      "text/plain": [
       "<Figure size 432x288 with 1 Axes>"
      ]
     },
     "metadata": {
      "needs_background": "light"
     },
     "output_type": "display_data"
    }
   ],
   "source": [
    "# Lets compare the groupings that could be used as elbows.\n",
    "for i in range(3, 6):\n",
    "    kmeans = KMeans(n_clusters=i)\n",
    "    kmeans.fit(X)\n",
    "    predict = kmeans.predict(X)\n",
    "    centroids = kmeans.cluster_centers_\n",
    "    \n",
    "    plt.title('With ' + str(i) + ' clusters')\n",
    "    plt.scatter(X[ : , 0], X[ : , 1], s=50, c=predict)\n",
    "    plt.scatter(centroids[ : , 0], centroids[ : , 1], s = 200, marker='x', c = 'm')\n",
    "    plt.show()"
   ]
  },
  {
   "cell_type": "markdown",
   "metadata": {},
   "source": [
    "#### Based on the data, we feel that 5 clusters is something that resembles the data we have with a good accuracy."
   ]
  },
  {
   "cell_type": "markdown",
   "metadata": {},
   "source": [
    "### 2 - Can cluster categories serve to predict payment defaults? – (10 pts)"
   ]
  },
  {
   "cell_type": "code",
   "execution_count": 6,
   "metadata": {},
   "outputs": [
    {
     "name": "stdout",
     "output_type": "stream",
     "text": [
      "Evaluation scores for 3 clusters.\n",
      "Cross-validated scores: [1.17333333 1.44966667 1.44566667 0.75533333 2.08766667 1.25766667\n",
      " 2.07633333 2.01333333 1.382      2.02633333]\n",
      "Cross-Predicted Accuracy: 6.678232039956992\n",
      "================================\n",
      "Evaluation scores for 4 clusters.\n",
      "Cross-validated scores: [1.65066667 2.554      1.11666667 1.082      1.76833333 5.20933333\n",
      " 3.07833333 2.41966667 4.215      1.55566667]\n",
      "Cross-Predicted Accuracy: 14.429991829906012\n",
      "================================\n",
      "Evaluation scores for 5 clusters.\n",
      "Cross-validated scores: [3.32       5.28633333 5.89333333 5.033      5.15766667 4.033\n",
      " 4.9        5.92633333 4.84333333 7.687     ]\n",
      "Cross-Predicted Accuracy: 29.129543511864902\n",
      "================================\n"
     ]
    }
   ],
   "source": [
    "# Will iterate over cluster variations...\n",
    "for i in range(3, 6):\n",
    "\n",
    "    print ('Evaluation scores for', str(i), 'clusters.')\n",
    "    kmeans_model_cross_val = KMeans(n_clusters=i)\n",
    "\n",
    "    # Cross validates data \n",
    "    scores = cross_val_score(kmeans_model_cross_val, X, y, scoring='neg_mean_squared_error', cv=10)\n",
    "    print('Cross-validated scores:', -scores)\n",
    "\n",
    "    predictions = cross_val_predict(kmeans_model_cross_val, X, y, cv=10)\n",
    "    accuracy = metrics.r2_score(y, predictions)\n",
    "    print('Cross-Predicted Accuracy:', -accuracy)\n",
    "    print('================================')"
   ]
  },
  {
   "cell_type": "markdown",
   "metadata": {},
   "source": [
    "#### Based on the data, our initial assumption that 5 clusters better represents the data seems to be valid, as it is the one with the highest score. However, because it is so low, we can confirm that using clusters to attempt to predict payment default is not going to provide any help at all."
   ]
  },
  {
   "cell_type": "markdown",
   "metadata": {},
   "source": [
    "### 3 - Can a classification algorithm be used to predict payment defaults based on the default data? (try as many ML algorithms as needed used in the class) - (25 pts)"
   ]
  },
  {
   "cell_type": "markdown",
   "metadata": {},
   "source": [
    "#### Before we do anything, we will clean up the data."
   ]
  },
  {
   "cell_type": "code",
   "execution_count": 7,
   "metadata": {},
   "outputs": [],
   "source": [
    "# Clear all attributes that are not helpful to identify default payments.\n",
    "columns_to_remove = ['ID', 'BILL_AMT3', 'BILL_AMT4', 'BILL_AMT5', 'BILL_AMT6', 'PAY_AMT3', 'PAY_AMT4', 'PAY_AMT5', 'PAY_AMT6']\n",
    "evaluation_X = data.drop(columns_to_remove, axis=1)\n",
    "\n",
    "# Result.\n",
    "evaluation_y = data['default payment next month'];\n",
    "\n",
    "# Change invalid marriage values to \"Other\"\n",
    "evaluation_X.loc[evaluation_X.MARRIAGE == 0, 'MARRIAGE'] = 3\n",
    "\n",
    "# Change invalid education values to \"Other\"\n",
    "evaluation_X.loc[evaluation_X.EDUCATION == 0, 'EDUCATION'] = 4\n",
    "evaluation_X.loc[evaluation_X.EDUCATION == 5, 'EDUCATION'] = 4\n",
    "evaluation_X.loc[evaluation_X.EDUCATION == 6, 'EDUCATION'] = 4\n"
   ]
  },
  {
   "cell_type": "code",
   "execution_count": 23,
   "metadata": {},
   "outputs": [],
   "source": [
    "# Gets train and test data.\n",
    "X_train, X_test, y_train, y_test = train_test_split(evaluation_X, y, train_size=0.65, random_state=10)\n",
    "\n",
    "# Transforms the data with a normalizer.\n",
    "normd = Normalizer().fit(X_train)\n",
    "X_norm_train = normd.transform(X_train)\n",
    "X_norm_test = normd.transform(X_test)\n",
    "X_norm = normd.transform(evaluation_X)\n",
    "X_norm_train = pd.DataFrame(X_norm_train, columns=list(evaluation_X))\n",
    "X_norm_test = pd.DataFrame(X_norm_test, columns=list(evaluation_X))\n",
    "X_norm = pd.DataFrame(X_norm, columns=list(evaluation_X))\n",
    "\n",
    "# Transforms the data with a scaler.\n",
    "scaled = MinMaxScaler().fit(X_train)\n",
    "X_scaled_train = scaled.transform(X_train)\n",
    "X_scaled_test = scaled.transform(X_test)\n",
    "X_scaled = scaled.transform(evaluation_X)\n",
    "X_scaled_train = pd.DataFrame(X_scaled_train, columns=list(evaluation_X))\n",
    "X_scaled_test = pd.DataFrame(X_scaled_test, columns=list(evaluation_X))\n",
    "X_scaled = pd.DataFrame(X_scaled, columns=list(evaluation_X))"
   ]
  },
  {
   "cell_type": "code",
   "execution_count": 24,
   "metadata": {},
   "outputs": [],
   "source": [
    "# Uses PCA to transform data. We use this because there are no category labels available.\n",
    "pca = decomposition.PCA(n_components = 2)\n",
    "pca.fit(X_train)\n",
    "X_train = pca.transform(X_train)\n",
    "X_test = pca.transform(X_test)\n",
    "\n",
    "pca_norm = decomposition.PCA(n_components = 2)\n",
    "pca_norm.fit(X_norm_train)\n",
    "X_norm_train = pca_norm.transform(X_norm_train)\n",
    "X_norm_test = pca_norm.transform(X_norm_test)\n",
    "\n",
    "pca_scaled = decomposition.PCA(n_components = 2)\n",
    "pca_scaled.fit(X_scaled_train)\n",
    "X_scaled_train = pca_scaled.transform(X_scaled_train)\n",
    "X_scaled_test = pca_scaled.transform(X_scaled_test)"
   ]
  },
  {
   "cell_type": "markdown",
   "metadata": {},
   "source": [
    "#  Logistic regression evaluation\n",
    "## ==================================================================="
   ]
  },
  {
   "cell_type": "code",
   "execution_count": 25,
   "metadata": {},
   "outputs": [],
   "source": [
    "from sklearn.linear_model import LogisticRegression\n",
    "param_grid = {\n",
    "  'random_state': [None, 2, 10],\n",
    "  'max_iter': [150], \n",
    "  'penalty': ['l2'],\n",
    "  'C': [1e3, 1e4, 5e4, 1e5],\n",
    "  'solver': ['lbfgs', 'sag']\n",
    "}"
   ]
  },
  {
   "cell_type": "code",
   "execution_count": 26,
   "metadata": {},
   "outputs": [
    {
     "name": "stdout",
     "output_type": "stream",
     "text": [
      "Best estimator found in 12.527s:\n",
      "LogisticRegression(C=10000.0, class_weight=None, dual=False, fit_intercept=True,\n",
      "                   intercept_scaling=1, l1_ratio=None, max_iter=150,\n",
      "                   multi_class='warn', n_jobs=-1, penalty='l2',\n",
      "                   random_state=None, solver='sag', tol=0.0001, verbose=0,\n",
      "                   warm_start=False)\n",
      "              precision    recall  f1-score   support\n",
      "\n",
      "           0       0.85      0.44      0.58      8134\n",
      "           1       0.28      0.74      0.40      2366\n",
      "\n",
      "    accuracy                           0.51     10500\n",
      "   macro avg       0.57      0.59      0.49     10500\n",
      "weighted avg       0.72      0.51      0.54     10500\n",
      "\n"
     ]
    }
   ],
   "source": [
    "# Uses grid search with logistic regression to obtain the best estimator.\n",
    "t0 = time()\n",
    "gs_model = GridSearchCV(LogisticRegression(n_jobs=-1), param_grid, cv=10, iid=False)\n",
    "gs_model = gs_model.fit(X_train, y_train)\n",
    "\n",
    "# Dislay messages.\n",
    "print('Best estimator found in %0.3fs:' % (time() - t0))\n",
    "print(gs_model.best_estimator_)\n",
    "\n",
    "# Using test set.\n",
    "y_pred = gs_model.predict(X_test)\n",
    "print(classification_report(y_test, y_pred))"
   ]
  },
  {
   "cell_type": "code",
   "execution_count": 27,
   "metadata": {},
   "outputs": [
    {
     "name": "stdout",
     "output_type": "stream",
     "text": [
      "Best estimator found in 10.519s:\n",
      "LogisticRegression(C=1000.0, class_weight=None, dual=False, fit_intercept=True,\n",
      "                   intercept_scaling=1, l1_ratio=None, max_iter=150,\n",
      "                   multi_class='warn', n_jobs=-1, penalty='l2',\n",
      "                   random_state=None, solver='lbfgs', tol=0.0001, verbose=0,\n",
      "                   warm_start=False)\n",
      "              precision    recall  f1-score   support\n",
      "\n",
      "           0       0.77      1.00      0.87      8134\n",
      "           1       0.00      0.00      0.00      2366\n",
      "\n",
      "    accuracy                           0.77     10500\n",
      "   macro avg       0.39      0.50      0.44     10500\n",
      "weighted avg       0.60      0.77      0.68     10500\n",
      "\n"
     ]
    },
    {
     "name": "stderr",
     "output_type": "stream",
     "text": [
      "/Users/alemadlei/anaconda3/lib/python3.7/site-packages/sklearn/metrics/classification.py:1437: UndefinedMetricWarning: Precision and F-score are ill-defined and being set to 0.0 in labels with no predicted samples.\n",
      "  'precision', 'predicted', average, warn_for)\n"
     ]
    }
   ],
   "source": [
    "# Uses grid search with logistic regression to obtain the best estimator.\n",
    "t0 = time()\n",
    "gs_model = GridSearchCV(LogisticRegression(n_jobs=-1), param_grid, cv=10, iid=False)\n",
    "gs_model = gs_model.fit(X_norm_train, y_train)\n",
    "\n",
    "# Dislay messages.\n",
    "print('Best estimator found in %0.3fs:' % (time() - t0))\n",
    "print(gs_model.best_estimator_)\n",
    "\n",
    "# Using test set.\n",
    "y_norm_pred = gs_model.predict(X_norm_test)\n",
    "print(classification_report(y_test, y_norm_pred))"
   ]
  },
  {
   "cell_type": "code",
   "execution_count": 28,
   "metadata": {},
   "outputs": [
    {
     "name": "stdout",
     "output_type": "stream",
     "text": [
      "Best estimator found in 26.602s:\n",
      "LogisticRegression(C=1000.0, class_weight=None, dual=False, fit_intercept=True,\n",
      "                   intercept_scaling=1, l1_ratio=None, max_iter=150,\n",
      "                   multi_class='warn', n_jobs=-1, penalty='l2',\n",
      "                   random_state=None, solver='lbfgs', tol=0.0001, verbose=0,\n",
      "                   warm_start=False)\n",
      "              precision    recall  f1-score   support\n",
      "\n",
      "           0       1.00      1.00      1.00      8134\n",
      "           1       1.00      1.00      1.00      2366\n",
      "\n",
      "    accuracy                           1.00     10500\n",
      "   macro avg       1.00      1.00      1.00     10500\n",
      "weighted avg       1.00      1.00      1.00     10500\n",
      "\n"
     ]
    }
   ],
   "source": [
    "# Uses grid search with logistic regression to obtain the best estimator.\n",
    "t0 = time()\n",
    "gs_model = GridSearchCV(LogisticRegression(n_jobs=-1), param_grid, cv=10, iid=False)\n",
    "gs_model = gs_model.fit(X_scaled_train, y_train)\n",
    "\n",
    "# Dislay messages.\n",
    "print('Best estimator found in %0.3fs:' % (time() - t0))\n",
    "print(gs_model.best_estimator_)\n",
    "\n",
    "# Using test set.\n",
    "y_scaled_pred = gs_model.predict(X_scaled_test)\n",
    "print(classification_report(y_test, y_scaled_pred))"
   ]
  },
  {
   "cell_type": "markdown",
   "metadata": {},
   "source": [
    "#### Though this results are very positive, it could be that the model is \"too good to be true\", and some overfitting might be happening. We test with the specific instance, and by using all data.\n"
   ]
  },
  {
   "cell_type": "code",
   "execution_count": 14,
   "metadata": {},
   "outputs": [
    {
     "name": "stdout",
     "output_type": "stream",
     "text": [
      "              precision    recall  f1-score   support\n",
      "\n",
      "           0       0.82      0.97      0.89     23364\n",
      "           1       0.72      0.26      0.38      6636\n",
      "\n",
      "    accuracy                           0.81     30000\n",
      "   macro avg       0.77      0.61      0.63     30000\n",
      "weighted avg       0.80      0.81      0.78     30000\n",
      "\n"
     ]
    }
   ],
   "source": [
    "pred = gs_model.best_estimator_.predict(pca_scaled.transform(X_scaled))\n",
    "print(classification_report(y, pred))"
   ]
  },
  {
   "cell_type": "markdown",
   "metadata": {},
   "source": [
    "#### With all data this seems to work.... however, we still have the feeling that this is too good to be true and that there might be a chance that the model is overfitting."
   ]
  },
  {
   "cell_type": "markdown",
   "metadata": {},
   "source": [
    "#  Random Forest Classifier\n",
    "## ==================================================================="
   ]
  },
  {
   "cell_type": "code",
   "execution_count": 15,
   "metadata": {},
   "outputs": [],
   "source": [
    "forest_param_grid = {\n",
    "  'criterion': ['gini'],\n",
    "  'max_depth': [6],\n",
    "  'n_estimators': [150],  \n",
    "}"
   ]
  },
  {
   "cell_type": "code",
   "execution_count": 16,
   "metadata": {},
   "outputs": [
    {
     "name": "stdout",
     "output_type": "stream",
     "text": [
      "Best estimator found in 14.998s:\n",
      "RandomForestClassifier(bootstrap=True, class_weight=None, criterion='gini',\n",
      "                       max_depth=6, max_features='auto', max_leaf_nodes=None,\n",
      "                       min_impurity_decrease=0.0, min_impurity_split=None,\n",
      "                       min_samples_leaf=1, min_samples_split=2,\n",
      "                       min_weight_fraction_leaf=0.0, n_estimators=150,\n",
      "                       n_jobs=None, oob_score=False, random_state=None,\n",
      "                       verbose=0, warm_start=False)\n",
      "              precision    recall  f1-score   support\n",
      "\n",
      "           0       0.78      1.00      0.87      8134\n",
      "           1       0.50      0.01      0.01      2366\n",
      "\n",
      "    accuracy                           0.77     10500\n",
      "   macro avg       0.64      0.50      0.44     10500\n",
      "weighted avg       0.71      0.77      0.68     10500\n",
      "\n"
     ]
    }
   ],
   "source": [
    "# Uses grid search with RandomForest to obtain the best estimator.\n",
    "t0 = time()\n",
    "gs_model = GridSearchCV(RandomForestClassifier(), forest_param_grid, cv=10, iid=False)\n",
    "gs_model = gs_model.fit(X_train, y_train)\n",
    "\n",
    "# Dislay messages.\n",
    "print('Best estimator found in %0.3fs:' % (time() - t0))\n",
    "print(gs_model.best_estimator_)\n",
    "\n",
    "# Using test set.\n",
    "y_pred = gs_model.predict(X_test)\n",
    "print(classification_report(y_test, y_pred))"
   ]
  },
  {
   "cell_type": "code",
   "execution_count": 17,
   "metadata": {},
   "outputs": [
    {
     "name": "stdout",
     "output_type": "stream",
     "text": [
      "Best estimator found in 15.398s:\n",
      "RandomForestClassifier(bootstrap=True, class_weight=None, criterion='gini',\n",
      "                       max_depth=6, max_features='auto', max_leaf_nodes=None,\n",
      "                       min_impurity_decrease=0.0, min_impurity_split=None,\n",
      "                       min_samples_leaf=1, min_samples_split=2,\n",
      "                       min_weight_fraction_leaf=0.0, n_estimators=150,\n",
      "                       n_jobs=None, oob_score=False, random_state=None,\n",
      "                       verbose=0, warm_start=False)\n",
      "              precision    recall  f1-score   support\n",
      "\n",
      "           0       0.77      1.00      0.87      8134\n",
      "           1       0.00      0.00      0.00      2366\n",
      "\n",
      "    accuracy                           0.77     10500\n",
      "   macro avg       0.39      0.50      0.44     10500\n",
      "weighted avg       0.60      0.77      0.68     10500\n",
      "\n"
     ]
    },
    {
     "name": "stderr",
     "output_type": "stream",
     "text": [
      "/Users/alemadlei/anaconda3/lib/python3.7/site-packages/sklearn/metrics/classification.py:1437: UndefinedMetricWarning: Precision and F-score are ill-defined and being set to 0.0 in labels with no predicted samples.\n",
      "  'precision', 'predicted', average, warn_for)\n"
     ]
    }
   ],
   "source": [
    "# Uses grid search with RandomForest to obtain the best estimator.\n",
    "t0 = time()\n",
    "gs_model = GridSearchCV(RandomForestClassifier(), forest_param_grid, cv=10, iid=False)\n",
    "gs_model = gs_model.fit(X_norm_train, y_train)\n",
    "\n",
    "# Dislay messages.\n",
    "print('Best estimator found in %0.3fs:' % (time() - t0))\n",
    "print(gs_model.best_estimator_)\n",
    "\n",
    "# Using test set.\n",
    "y_pred = gs_model.predict(X_norm_test)\n",
    "print(classification_report(y_test, y_pred))"
   ]
  },
  {
   "cell_type": "code",
   "execution_count": 18,
   "metadata": {},
   "outputs": [
    {
     "name": "stdout",
     "output_type": "stream",
     "text": [
      "Best estimator found in 15.716s:\n",
      "RandomForestClassifier(bootstrap=True, class_weight=None, criterion='gini',\n",
      "                       max_depth=6, max_features='auto', max_leaf_nodes=None,\n",
      "                       min_impurity_decrease=0.0, min_impurity_split=None,\n",
      "                       min_samples_leaf=1, min_samples_split=2,\n",
      "                       min_weight_fraction_leaf=0.0, n_estimators=150,\n",
      "                       n_jobs=None, oob_score=False, random_state=None,\n",
      "                       verbose=0, warm_start=False)\n",
      "              precision    recall  f1-score   support\n",
      "\n",
      "           0       0.85      0.96      0.90      8134\n",
      "           1       0.75      0.44      0.55      2366\n",
      "\n",
      "    accuracy                           0.84     10500\n",
      "   macro avg       0.80      0.70      0.73     10500\n",
      "weighted avg       0.83      0.84      0.82     10500\n",
      "\n"
     ]
    }
   ],
   "source": [
    "# Uses grid search with RandomForest to obtain the best estimator.\n",
    "t0 = time()\n",
    "gs_model = GridSearchCV(RandomForestClassifier(), forest_param_grid, cv=10, iid=False)\n",
    "gs_model = gs_model.fit(X_scaled_train, y_train)\n",
    "\n",
    "# Dislay messages.\n",
    "print('Best estimator found in %0.3fs:' % (time() - t0))\n",
    "print(gs_model.best_estimator_)\n",
    "\n",
    "# Using test set.\n",
    "y_pred = gs_model.predict(X_scaled_test)\n",
    "print(classification_report(y_test, y_pred))"
   ]
  },
  {
   "cell_type": "markdown",
   "metadata": {},
   "source": [
    "#  Support Vector Machines Evaluation\n",
    "## ==================================================================="
   ]
  },
  {
   "cell_type": "code",
   "execution_count": 19,
   "metadata": {},
   "outputs": [],
   "source": [
    "# We already have all of our data transformed and ready to use.\n",
    "# Build the parameters\n",
    "svm_param_grid = {\n",
    "  'kernel': ['rbf'],\n",
    "  'gamma': [0.0001, 0.0005, 0.001, 0.005],\n",
    "  'class_weight': ['balanced']\n",
    "}\n",
    "\n",
    "svm_param_grid = {\n",
    "  'kernel': ['rbf'],\n",
    "}"
   ]
  },
  {
   "cell_type": "code",
   "execution_count": 20,
   "metadata": {},
   "outputs": [
    {
     "name": "stdout",
     "output_type": "stream",
     "text": [
      "Best estimator found in 42.674s:\n",
      "SVC(C=1.0, cache_size=2048, class_weight=None, coef0=0.0,\n",
      "    decision_function_shape='ovr', degree=3, gamma='scale', kernel='rbf',\n",
      "    max_iter=-1, probability=False, random_state=None, shrinking=True,\n",
      "    tol=0.001, verbose=False)\n",
      "              precision    recall  f1-score   support\n",
      "\n",
      "           0       0.77      1.00      0.87      8134\n",
      "           1       0.00      0.00      0.00      2366\n",
      "\n",
      "    accuracy                           0.77     10500\n",
      "   macro avg       0.39      0.50      0.44     10500\n",
      "weighted avg       0.60      0.77      0.68     10500\n",
      "\n"
     ]
    },
    {
     "name": "stderr",
     "output_type": "stream",
     "text": [
      "/Users/alemadlei/anaconda3/lib/python3.7/site-packages/sklearn/metrics/classification.py:1437: UndefinedMetricWarning: Precision and F-score are ill-defined and being set to 0.0 in labels with no predicted samples.\n",
      "  'precision', 'predicted', average, warn_for)\n"
     ]
    }
   ],
   "source": [
    "# Uses grid search with SVM to obtain the best estimator.\n",
    "t0 = time()\n",
    "gs_model = GridSearchCV(SVC(cache_size=2048, gamma= 'scale'), svm_param_grid, cv=10, iid=False)\n",
    "gs_model = gs_model.fit(X_train, y_train)\n",
    "\n",
    "# Dislay messages.\n",
    "print('Best estimator found in %0.3fs:' % (time() - t0))\n",
    "print(gs_model.best_estimator_)\n",
    "\n",
    "# Using test set.\n",
    "y_pred = gs_model.predict(X_test)\n",
    "print(classification_report(y_test, y_pred))"
   ]
  },
  {
   "cell_type": "code",
   "execution_count": 21,
   "metadata": {},
   "outputs": [
    {
     "name": "stdout",
     "output_type": "stream",
     "text": [
      "Best estimator found in 36.379s:\n",
      "SVC(C=1.0, cache_size=2048, class_weight=None, coef0=0.0,\n",
      "    decision_function_shape='ovr', degree=3, gamma='scale', kernel='rbf',\n",
      "    max_iter=-1, probability=False, random_state=None, shrinking=True,\n",
      "    tol=0.001, verbose=False)\n",
      "              precision    recall  f1-score   support\n",
      "\n",
      "           0       0.77      1.00      0.87      8134\n",
      "           1       0.00      0.00      0.00      2366\n",
      "\n",
      "    accuracy                           0.77     10500\n",
      "   macro avg       0.39      0.50      0.44     10500\n",
      "weighted avg       0.60      0.77      0.68     10500\n",
      "\n"
     ]
    },
    {
     "name": "stderr",
     "output_type": "stream",
     "text": [
      "/Users/alemadlei/anaconda3/lib/python3.7/site-packages/sklearn/metrics/classification.py:1437: UndefinedMetricWarning: Precision and F-score are ill-defined and being set to 0.0 in labels with no predicted samples.\n",
      "  'precision', 'predicted', average, warn_for)\n"
     ]
    }
   ],
   "source": [
    "# Uses grid search with SVM to obtain the best estimator.\n",
    "t0 = time()\n",
    "gs_model = GridSearchCV(SVC(cache_size=2048, gamma= 'scale'), svm_param_grid, cv=10, iid=False)\n",
    "gs_model = gs_model.fit(X_norm_train, y_train)\n",
    "\n",
    "# Dislay messages.\n",
    "print('Best estimator found in %0.3fs:' % (time() - t0))\n",
    "print(gs_model.best_estimator_)\n",
    "\n",
    "# Using test set.\n",
    "y_pred = gs_model.predict(X_norm_test)\n",
    "print(classification_report(y_test, y_pred))"
   ]
  },
  {
   "cell_type": "code",
   "execution_count": 22,
   "metadata": {},
   "outputs": [
    {
     "name": "stdout",
     "output_type": "stream",
     "text": [
      "Best estimator found in 78.522s:\n",
      "SVC(C=1.0, cache_size=2048, class_weight=None, coef0=0.0,\n",
      "    decision_function_shape='ovr', degree=3, gamma='scale', kernel='rbf',\n",
      "    max_iter=-1, probability=False, random_state=None, shrinking=True,\n",
      "    tol=0.001, verbose=False)\n",
      "              precision    recall  f1-score   support\n",
      "\n",
      "           0       0.84      0.96      0.89      8134\n",
      "           1       0.71      0.35      0.47      2366\n",
      "\n",
      "    accuracy                           0.82     10500\n",
      "   macro avg       0.77      0.66      0.68     10500\n",
      "weighted avg       0.81      0.82      0.80     10500\n",
      "\n"
     ]
    }
   ],
   "source": [
    "# Uses grid search with SVM to obtain the best estimator.\n",
    "t0 = time()\n",
    "gs_model = GridSearchCV(SVC(cache_size=2048, gamma= 'scale'), svm_param_grid, cv=10, iid=False)\n",
    "gs_model = gs_model.fit(X_scaled_train, y_train)\n",
    "\n",
    "# Dislay messages.\n",
    "print('Best estimator found in %0.3fs:' % (time() - t0))\n",
    "print(gs_model.best_estimator_)\n",
    "\n",
    "# Using test set.\n",
    "y_pred = gs_model.predict(X_scaled_test)\n",
    "print(classification_report(y_test, y_pred))"
   ]
  },
  {
   "cell_type": "code",
   "execution_count": null,
   "metadata": {},
   "outputs": [],
   "source": []
  },
  {
   "cell_type": "code",
   "execution_count": null,
   "metadata": {},
   "outputs": [],
   "source": []
  }
 ],
 "metadata": {
  "kernelspec": {
   "display_name": "Python 3",
   "language": "python",
   "name": "python3"
  },
  "language_info": {
   "codemirror_mode": {
    "name": "ipython",
    "version": 3
   },
   "file_extension": ".py",
   "mimetype": "text/x-python",
   "name": "python",
   "nbconvert_exporter": "python",
   "pygments_lexer": "ipython3",
   "version": "3.7.3"
  }
 },
 "nbformat": 4,
 "nbformat_minor": 2
}
